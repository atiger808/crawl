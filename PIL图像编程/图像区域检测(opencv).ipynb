{
 "cells": [
  {
   "cell_type": "code",
   "execution_count": 533,
   "metadata": {},
   "outputs": [],
   "source": [
    "# import cv2  \n",
    "# import numpy as np  \n",
    "# from PIL import Image\n",
    "# import os\n",
    "# os.chdir('d:/img')\n",
    "\n",
    "# img = cv2.imread(\"./dog0.png\")  \n",
    "# emptyImage = np.zeros(img.shape, np.uint8)  \n",
    "  \n",
    "# emptyImage2 = img.copy()  \n",
    "  \n",
    "# emptyImage3=cv2.cvtColor(img,cv2.COLOR_BGR2GRAY)  \n",
    "# #emptyImage3[...]=0  \n",
    "  \n",
    "# cv2.imshow(\"EmptyImage\", emptyImage)  \n",
    "# cv2.imshow(\"Image\", img)  \n",
    "# cv2.imshow(\"EmptyImage2\", emptyImage2)  \n",
    "# cv2.imshow(\"EmptyImage3\", emptyImage3)  \n",
    "# cv2.imwrite(\"./cat2.jpg\", img, [int(cv2.IMWRITE_JPEG_QUALITY), 5])  \n",
    "# cv2.imwrite(\"./cat3.jpg\", img, [int(cv2.IMWRITE_JPEG_QUALITY), 100])  \n",
    "# cv2.imwrite(\"./cat.png\", img, [int(cv2.IMWRITE_PNG_COMPRESSION), 0])  \n",
    "# cv2.imwrite(\"./cat2.png\", img, [int(cv2.IMWRITE_PNG_COMPRESSION), 9])  \n",
    "# cv2.waitKey (0)  \n",
    "# cv2.destroyAllWindows()  "
   ]
  },
  {
   "cell_type": "code",
   "execution_count": 534,
   "metadata": {},
   "outputs": [],
   "source": [
    "import cv2\n",
    "from PIL import Image"
   ]
  },
  {
   "cell_type": "code",
   "execution_count": 535,
   "metadata": {},
   "outputs": [],
   "source": [
    "im = Image.new('RGBA', (200, 300), (200, 100, 100))\n"
   ]
  },
  {
   "cell_type": "code",
   "execution_count": 536,
   "metadata": {},
   "outputs": [
    {
     "data": {
      "image/png": "[encoded data removed]",
      "text/plain": [
       "<Figure size 432x288 with 1 Axes>"
      ]
     },
     "metadata": {},
     "output_type": "display_data"
    },
    {
     "name": "stdout",
     "output_type": "stream",
     "text": [
      "ok\n"
     ]
    }
   ],
   "source": [
    "import numpy as np\n",
    "import cv2\n",
    "import matplotlib.pyplot as plt\n",
    "%matplotlib inline\n",
    "import os\n",
    "\n",
    "os.chdir('d:/img')\n",
    "\n",
    "a = np.array([[[10,10], [100,10], [100,100], [10,100]]], dtype = np.int32)\n",
    "b = np.array([[[100,100], [200,230], [150,200], [100,220]]], dtype = np.int32)\n",
    "im = np.zeros([240, 320], dtype = np.uint8)\n",
    "cv2.fillPoly(im, a, 1, 200)\n",
    "cv2.fillPoly(im, b, 1,255)\n",
    "plt.imshow(im)\n",
    "plt.show()\n",
    "cv2.imwrite('temp.png', im)\n",
    "print('ok')"
   ]
  },
  {
   "cell_type": "code",
   "execution_count": null,
   "metadata": {},
   "outputs": [],
   "source": []
  },
  {
   "cell_type": "markdown",
   "metadata": {},
   "source": [
    "# 根据线段画出图像并填充"
   ]
  },
  {
   "cell_type": "code",
   "execution_count": 578,
   "metadata": {},
   "outputs": [
    {
     "ename": "TypeError",
     "evalue": "an integer is required (got type tuple)",
     "traceback": [
      "\u001b[1;31m---------------------------------------------------------------------------\u001b[0m",
      "\u001b[1;31mTypeError\u001b[0m                                 Traceback (most recent call last)",
      "\u001b[1;32m<ipython-input-578-cc944f66b899>\u001b[0m in \u001b[0;36m<module>\u001b[1;34m()\u001b[0m\n\u001b[0;32m     12\u001b[0m \u001b[0mbg\u001b[0m \u001b[1;33m=\u001b[0m \u001b[0mnp\u001b[0m\u001b[1;33m.\u001b[0m\u001b[0mzeros\u001b[0m\u001b[1;33m(\u001b[0m\u001b[1;33m[\u001b[0m\u001b[1;36m240\u001b[0m\u001b[1;33m,\u001b[0m \u001b[1;36m320\u001b[0m\u001b[1;33m]\u001b[0m\u001b[1;33m,\u001b[0m \u001b[0mdtype\u001b[0m \u001b[1;33m=\u001b[0m \u001b[0mnp\u001b[0m\u001b[1;33m.\u001b[0m\u001b[0muint8\u001b[0m\u001b[1;33m)\u001b[0m\u001b[1;33m\u001b[0m\u001b[0m\n\u001b[0;32m     13\u001b[0m \u001b[1;31m# arr = cv2.fillPoly(bg, b, (255, 255, 200))\u001b[0m\u001b[1;33m\u001b[0m\u001b[1;33m\u001b[0m\u001b[0m\n\u001b[1;32m---> 14\u001b[1;33m \u001b[0marr\u001b[0m \u001b[1;33m=\u001b[0m \u001b[0mcv2\u001b[0m\u001b[1;33m.\u001b[0m\u001b[0mpolylines\u001b[0m\u001b[1;33m(\u001b[0m\u001b[0mbg\u001b[0m\u001b[1;33m,\u001b[0m \u001b[0ma\u001b[0m\u001b[1;33m,\u001b[0m \u001b[1;33m(\u001b[0m\u001b[1;36m255\u001b[0m\u001b[1;33m,\u001b[0m \u001b[1;36m255\u001b[0m\u001b[1;33m,\u001b[0m \u001b[1;36m255\u001b[0m\u001b[1;33m)\u001b[0m\u001b[1;33m)\u001b[0m\u001b[1;33m\u001b[0m\u001b[0m\n\u001b[0m\u001b[0;32m     15\u001b[0m \u001b[0marr\u001b[0m \u001b[1;33m=\u001b[0m \u001b[0mnp\u001b[0m\u001b[1;33m.\u001b[0m\u001b[0marray\u001b[0m\u001b[1;33m(\u001b[0m\u001b[0marr\u001b[0m\u001b[1;33m)\u001b[0m\u001b[1;33m\u001b[0m\u001b[0m\n\u001b[0;32m     16\u001b[0m \u001b[0mimm\u001b[0m \u001b[1;33m=\u001b[0m \u001b[0mImage\u001b[0m\u001b[1;33m.\u001b[0m\u001b[0mfromarray\u001b[0m\u001b[1;33m(\u001b[0m\u001b[0marr\u001b[0m\u001b[1;33m.\u001b[0m\u001b[0mastype\u001b[0m\u001b[1;33m(\u001b[0m\u001b[1;34m'uint8'\u001b[0m\u001b[1;33m)\u001b[0m\u001b[1;33m)\u001b[0m\u001b[1;33m\u001b[0m\u001b[0m\n",
      "\u001b[1;31mTypeError\u001b[0m: an integer is required (got type tuple)"
     ],
     "output_type": "error"
    }
   ],
   "source": [
    "import numpy as np\n",
    "import cv2\n",
    "import numpy as np\n",
    "import matplotlib.pyplot as plt\n",
    "from PIL import Image\n",
    "%matplotlib inline\n",
    "import os\n",
    "os.chdir('d:/img')\n",
    "\n",
    "a = np.array([[[10,10], [100,10], [100,100], [10,100]]], dtype = np.int32)\n",
    "b = np.array([[[100,100], [200,230], [150,200], [100,220]]], dtype = np.int32)\n",
    "bg = np.zeros([240, 320], dtype = np.uint8)\n",
    "# arr = cv2.fillPoly(bg, b, (255, 255, 200))\n",
    "arr = cv2.polylines(bg, a, (255, 255, 255))\n",
    "arr = np.array(arr)\n",
    "imm = Image.fromarray(arr.astype('uint8'))\n",
    "imm.save('tt.png')\n",
    "imm"
   ]
  },
  {
   "cell_type": "markdown",
   "metadata": {},
   "source": [
    "# 计算面积函数"
   ]
  },
  {
   "cell_type": "code",
   "execution_count": 538,
   "metadata": {},
   "outputs": [],
   "source": [
    "# 计算面积函数\n",
    "def areaCal(contour):\n",
    "    area = 0\n",
    "    for i in range((len(contour))):\n",
    "        area += cv2.contourArea(contour[i])\n",
    "    return area\n",
    "\n"
   ]
  },
  {
   "cell_type": "code",
   "execution_count": 539,
   "metadata": {},
   "outputs": [],
   "source": [
    "import cv2\n",
    "\n",
    "img = cv2.imread('tt.png')\n",
    "# Img2Grey\n",
    "gray = cv2.cvtColor(img, cv2.COLOR_BGR2GRAY)\n",
    "# Grey2Binary\n",
    "ret, thresh = cv2.threshold(gray, 127, 255, 0)\n",
    "\n",
    "# # 轮廓检测\n",
    "image, contours, hierarchy = cv2.findContours(thresh,cv2.RETR_TREE,cv2.CHAIN_APPROX_SIMPLE)\n",
    "\n",
    "# 画出轮廓\n",
    "for i in range(0,len(contours)): \n",
    "  x, y, w, h = cv2.boundingRect(contours[i])  \n",
    "  cv2.rectangle(image, (x,y), (x+w,y+h), (252, 100, 0), 2)"
   ]
  },
  {
   "cell_type": "code",
   "execution_count": 540,
   "metadata": {},
   "outputs": [
    {
     "data": {
      "image/png": "[encoded data removed]",
      "text/plain": [
       "<PIL.Image.Image image mode=L size=320x240 at 0x47268D0>"
      ]
     },
     "execution_count": 540,
     "metadata": {},
     "output_type": "execute_result"
    }
   ],
   "source": [
    "Image.fromarray(image)"
   ]
  },
  {
   "cell_type": "code",
   "execution_count": 541,
   "metadata": {},
   "outputs": [
    {
     "name": "stdout",
     "output_type": "stream",
     "text": [
      "12850.5\n"
     ]
    },
    {
     "data": {
      "image/png": "[encoded data removed]",
      "text/plain": [
       "<PIL.Image.Image image mode=L size=500x500 at 0x6C886D8>"
      ]
     },
     "execution_count": 541,
     "metadata": {},
     "output_type": "execute_result"
    }
   ],
   "source": [
    "\n",
    "import cv2\n",
    "import numpy as np\n",
    "import matplotlib.pyplot as plt\n",
    "from PIL import Image\n",
    "%matplotlib inline\n",
    "import os\n",
    "\n",
    "os.chdir('d:/img')\n",
    "\n",
    "# 线段\n",
    "a = np.array([[[10,10], [100,10], [100,100], [10,100]]], dtype = np.int32)\n",
    "b = np.array([[[100,100], [200,230], [150,200], [100,220]]], dtype = np.int32)\n",
    "bg = np.zeros([500, 500], dtype = np.uint8)\n",
    "# 画出线段并填充\n",
    "arr = cv2.fillPoly(bg, b, 255)\n",
    "arr = cv2.fillPoly(bg, a, 255)\n",
    "arr = np.array(arr)\n",
    "imm = Image.fromarray(arr.astype('uint8'))\n",
    "imm.save('tt.png')\n",
    "arr = cv2.imread('tt.png')\n",
    "\n",
    "# 图像转灰度\n",
    "gray_arr = cv2.cvtColor(arr, cv2.COLOR_BGR2GRAY)\n",
    "\n",
    "# 灰度转二进制\n",
    "ret, thresh = cv2.threshold(gray_arr, 127, 255, 0)\n",
    "\n",
    "# # 轮廓检测\n",
    "image, contours, hierarchy = cv2.findContours(thresh,cv2.RETR_TREE,cv2.CHAIN_APPROX_SIMPLE)\n",
    "\n",
    "# 画出轮廓，-1,表示所有轮廓，画笔颜色为(0, 255, 0)，即Green，粗细为3 \n",
    "cv2.drawContours(image, contours, -1, (255,255,0, 250), 2)\n",
    "\n",
    "# 计算面积\n",
    "area = cv2.contourArea(contours[0])\n",
    "print(area)\n",
    "# 显示图片contours\n",
    "img_new = Image.fromarray(image.astype('uint8'))\n",
    "img_new.save('0_1.png')\n",
    "img_new"
   ]
  },
  {
   "cell_type": "code",
   "execution_count": null,
   "metadata": {},
   "outputs": [],
   "source": []
  },
  {
   "cell_type": "code",
   "execution_count": 542,
   "metadata": {},
   "outputs": [
    {
     "data": {
      "text/plain": [
       "12850.5"
      ]
     },
     "execution_count": 542,
     "metadata": {},
     "output_type": "execute_result"
    }
   ],
   "source": [
    "cv2.contourArea(contours[0])"
   ]
  },
  {
   "cell_type": "code",
   "execution_count": 582,
   "metadata": {},
   "outputs": [
    {
     "name": "stdout",
     "output_type": "stream",
     "text": [
      "闭合区域数量:  1\n",
      "闭合区域面积： 4750.0\n"
     ]
    },
    {
     "data": {
      "image/png": "[encoded data removed]",
      "text/plain": [
       "<PIL.Image.Image image mode=RGB size=320x240 at 0x8DF9358>"
      ]
     },
     "execution_count": 582,
     "metadata": {},
     "output_type": "execute_result"
    }
   ],
   "source": [
    "\n",
    "# 读取图片\n",
    "img = cv2.imread('tt.png')\n",
    "# 把图片转为灰度图\n",
    "g = cv2.cvtColor(img, cv2.COLOR_BGR2GRAY)\n",
    "# 灰度图转二值化\n",
    "ret, g = cv2.threshold(g, 200, 255, 0)\n",
    "# 查看轮廓， ret是轮廓图， contours为轮廓边界的坐标, hierarchy分层，层次;等级制度\n",
    "m, contours, hierarchy = cv2.findContours(g, cv2.RETR_TREE, cv2.CHAIN_APPROX_SIMPLE)\n",
    "\n",
    "# 画出轮廓，-1,表示所有轮廓，画笔颜色为(0, 255, 0)，即Green，粗细为3 \n",
    "cv2.drawContours(img, contours, -1, (0,255,0, 250), 2)\n",
    "area = areaCal(contours)\n",
    "print('闭合区域数量: ', len(contours))\n",
    "print('闭合区域面积：', area)\n",
    "\n",
    "img = cv2.fillPoly(img, contours[0], 1, 200)\n",
    "Image.fromarray(img.astype('uint8'))"
   ]
  },
  {
   "cell_type": "markdown",
   "metadata": {},
   "source": [
    "# 绘制轮廓"
   ]
  },
  {
   "cell_type": "code",
   "execution_count": 583,
   "metadata": {},
   "outputs": [
    {
     "data": {
      "image/png": "[encoded data removed]",
      "text/plain": [
       "<PIL.Image.Image image mode=RGB size=320x240 at 0x8DF49B0>"
      ]
     },
     "execution_count": 583,
     "metadata": {},
     "output_type": "execute_result"
    }
   ],
   "source": [
    "cv2.drawContours(img, b, -1, (255, 0, 0), 1)\n",
    "Image.fromarray(img.astype('uint8'))"
   ]
  },
  {
   "cell_type": "markdown",
   "metadata": {},
   "source": [
    "# 图片的矩"
   ]
  },
  {
   "cell_type": "code",
   "execution_count": 587,
   "metadata": {},
   "outputs": [],
   "source": [
    "cnt = contours[0]\n",
    "M = cv2.moments(cnt)"
   ]
  },
  {
   "cell_type": "markdown",
   "metadata": {},
   "source": [
    "# 用图片的矩， 可以计算出轮廓的重心"
   ]
  },
  {
   "cell_type": "code",
   "execution_count": 588,
   "metadata": {},
   "outputs": [
    {
     "data": {
      "text/plain": [
       "(128, 174)"
      ]
     },
     "execution_count": 588,
     "metadata": {},
     "output_type": "execute_result"
    }
   ],
   "source": [
    "cx = int(M['m10'] / M['m00'])\n",
    "cy = int(M['m01'] / M['m00'])\n",
    "cx, cy"
   ]
  },
  {
   "cell_type": "markdown",
   "metadata": {},
   "source": [
    "# 计算轮廓的面积"
   ]
  },
  {
   "cell_type": "code",
   "execution_count": 589,
   "metadata": {},
   "outputs": [
    {
     "data": {
      "text/plain": [
       "(4750.0, 1)"
      ]
     },
     "execution_count": 589,
     "metadata": {},
     "output_type": "execute_result"
    }
   ],
   "source": [
    "# 总共四个轮廓, 计算第一个轮廓的面积\n",
    "area = cv2.contourArea(contours[0])\n",
    "area, len(contours)"
   ]
  },
  {
   "cell_type": "markdown",
   "metadata": {},
   "source": [
    "# 计算轮廓的周长"
   ]
  },
  {
   "cell_type": "code",
   "execution_count": 597,
   "metadata": {},
   "outputs": [
    {
     "data": {
      "text/plain": [
       "58.426406145095825"
      ]
     },
     "execution_count": 597,
     "metadata": {},
     "output_type": "execute_result"
    }
   ],
   "source": [
    "cv2.arcLength(contours[3], True)"
   ]
  },
  {
   "cell_type": "markdown",
   "metadata": {},
   "source": [
    "# 绘制轮廓的凸包"
   ]
  },
  {
   "cell_type": "code",
   "execution_count": 598,
   "metadata": {},
   "outputs": [
    {
     "data": {
      "image/png": "[encoded data removed]",
      "text/plain": [
       "<PIL.Image.Image image mode=RGB size=238x181 at 0x8E000B8>"
      ]
     },
     "execution_count": 598,
     "metadata": {},
     "output_type": "execute_result"
    }
   ],
   "source": [
    "import cv2\n",
    "imm = cv2.imread('00.png')\n",
    "g = cv2.cvtColor(im, cv2.COLOR_BGR2GRAY)\n",
    "ret, g = cv2.threshold(g, 200, 255, 0)\n",
    "m, contours, hierarchy = cv2.findContours(255-g, cv2.RETR_TREE, cv2.CHAIN_APPROX_NONE)\n",
    "hull = cv2.convexHull(cnt)\n",
    "t = cv2.cvtColor(m, cv2.COLOR_GRAY2BGR)\n",
    "i = cv2.polylines(imm, [hull], True, (255, 0, 0), 2)\n",
    "cv2.polylines(imm, hull, True, (255, 0, 0), 2)\n",
    "Image.fromarray(im)"
   ]
  },
  {
   "cell_type": "code",
   "execution_count": 599,
   "metadata": {},
   "outputs": [],
   "source": [
    "import cv2\n",
    "\n",
    "im = cv2.imread('00.png')\n",
    "\n",
    "g = cv2.cvtColor(im,cv2.COLOR_BGR2GRAY)\n",
    "\n",
    "ret,g= cv2.threshold(g,200,255,0)\n",
    "\n",
    "a,b,c = cv2.findContours(255-g,cv2.RETR_TREE,\\\n",
    "\n",
    "                         cv2.CHAIN_APPROX_NONE)\n",
    "\n",
    "hull = cv2.convexHull(cnt)\n",
    "\n",
    "t = cv2.cvtColor(a, cv2.COLOR_GRAY2BGR)\n",
    "\n",
    "i = cv2.polylines(im, [hull], True, (255, 0, 0), 2)"
   ]
  },
  {
   "cell_type": "code",
   "execution_count": null,
   "metadata": {},
   "outputs": [],
   "source": [
    "\n"
   ]
  },
  {
   "cell_type": "code",
   "execution_count": null,
   "metadata": {},
   "outputs": [],
   "source": []
  },
  {
   "cell_type": "code",
   "execution_count": 600,
   "metadata": {},
   "outputs": [
    {
     "data": {
      "image/png": "[encoded data removed]",
      "text/plain": [
       "<PIL.Image.Image image mode=RGB size=320x240 at 0x8DF6240>"
      ]
     },
     "execution_count": 600,
     "metadata": {},
     "output_type": "execute_result"
    }
   ],
   "source": [
    "\n",
    "# 画出轮廓\n",
    "for i in range(0,len(contours)): \n",
    "  x, y, w, h = cv2.boundingRect(contours[i])  \n",
    "  cv2.rectangle(img, (x,y), (x+w,y+h), (252, 100, 0), 2)\n",
    "Image.fromarray(img.astype('uint8'))"
   ]
  },
  {
   "cell_type": "code",
   "execution_count": null,
   "metadata": {},
   "outputs": [],
   "source": []
  },
  {
   "cell_type": "code",
   "execution_count": null,
   "metadata": {},
   "outputs": [],
   "source": []
  },
  {
   "cell_type": "code",
   "execution_count": null,
   "metadata": {},
   "outputs": [],
   "source": []
  },
  {
   "cell_type": "code",
   "execution_count": null,
   "metadata": {},
   "outputs": [],
   "source": []
  },
  {
   "cell_type": "code",
   "execution_count": null,
   "metadata": {},
   "outputs": [],
   "source": []
  },
  {
   "cell_type": "code",
   "execution_count": null,
   "metadata": {},
   "outputs": [],
   "source": []
  }
 ],
 "metadata": {
  "kernelspec": {
   "display_name": "Python 3",
   "language": "python",
   "name": "python3"
  },
  "language_info": {
   "codemirror_mode": {
    "name": "ipython",
    "version": 3
   },
   "file_extension": ".py",
   "mimetype": "text/x-python",
   "name": "python",
   "nbconvert_exporter": "python",
   "pygments_lexer": "ipython3",
   "version": "3.6.5"
  }
 },
 "nbformat": 4,
 "nbformat_minor": 2
}
